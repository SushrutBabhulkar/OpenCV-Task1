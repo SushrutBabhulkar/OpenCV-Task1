{
 "cells": [
  {
   "cell_type": "markdown",
   "metadata": {},
   "source": [
    "# Creating Image using OpenCV"
   ]
  },
  {
   "cell_type": "code",
   "execution_count": 1,
   "metadata": {},
   "outputs": [],
   "source": [
    "#Importing Libraries\n",
    "import cv2\n",
    "import numpy"
   ]
  },
  {
   "cell_type": "code",
   "execution_count": 2,
   "metadata": {},
   "outputs": [],
   "source": [
    "#Creating blank image\n",
    "Image = numpy.zeros(shape=[300, 300, 3])"
   ]
  },
  {
   "cell_type": "code",
   "execution_count": 3,
   "metadata": {},
   "outputs": [],
   "source": [
    "#Making changes to the Image\n",
    "\n",
    "#Image = cv2.line(image, start_point, end_point, color, thickness)\n",
    "#Image = cv2.circle(image, center_coordinates, radius, color, thickness)\n",
    "\n",
    "New_Image = cv2.circle(Image, (150,150), 50, (0,255,255), -1)\n",
    "New_Image = cv2.circle(Image, (130,130), 5, (0,0,0), -1)\n",
    "New_Image = cv2.circle(Image, (170,130), 5, (0,0,0), -1)\n",
    "New_Image = cv2.line(Image, (150,145), (150,155), (0,0,0), 5)\n",
    "New_Image = cv2.line(Image, (140,175), (160,175), (0,0,0), 5)"
   ]
  },
  {
   "cell_type": "code",
   "execution_count": 4,
   "metadata": {},
   "outputs": [],
   "source": [
    "#Display Image\n",
    "cv2.imshow(\"Emoji\",New_Image)\n",
    "cv2.waitKey()\n",
    "cv2.destroyAllWindows()"
   ]
  },
  {
   "cell_type": "code",
   "execution_count": null,
   "metadata": {},
   "outputs": [],
   "source": []
  }
 ],
 "metadata": {
  "kernelspec": {
   "display_name": "Python 3",
   "language": "python",
   "name": "python3"
  },
  "language_info": {
   "codemirror_mode": {
    "name": "ipython",
    "version": 3
   },
   "file_extension": ".py",
   "mimetype": "text/x-python",
   "name": "python",
   "nbconvert_exporter": "python",
   "pygments_lexer": "ipython3",
   "version": "3.7.3"
  }
 },
 "nbformat": 4,
 "nbformat_minor": 2
}
